{
 "cells": [
  {
   "cell_type": "markdown",
   "id": "cd11da2a",
   "metadata": {},
   "source": [
    "# Project 1, Part 5, Best Customer Analytics\n",
    "\n",
    "University of California, Berkeley\n",
    "Master of Information and Data Science (MIDS) program\n",
    "w205 - Fundamentals of Data Engineering\n",
    "\n",
    "Student: Stephanie Cabanela\n",
    "\n",
    "Year: 2022\n",
    "\n",
    "Semester: Spring\n",
    "\n",
    "Section: 7\n"
   ]
  },
  {
   "cell_type": "markdown",
   "id": "b052db7c",
   "metadata": {},
   "source": [
    "# Included Modules and Packages\n",
    "\n",
    "Code cell containing your includes for modules and packages"
   ]
  },
  {
   "cell_type": "code",
   "execution_count": 1,
   "id": "a400eec0",
   "metadata": {},
   "outputs": [],
   "source": [
    "import math\n",
    "import numpy as np\n",
    "import pandas as pd\n",
    "import psycopg2\n",
    "import matplotlib.pyplot as plt\n",
    "import matplotlib.colors as mcolors\n",
    "import seaborn as sns"
   ]
  },
  {
   "cell_type": "markdown",
   "id": "d954ac75",
   "metadata": {},
   "source": [
    "# Supporting code\n",
    "\n",
    "Code cells containing any supporting code, such as connecting to the database, any functions, etc.  Remember you can use any code from the labs."
   ]
  },
  {
   "cell_type": "code",
   "execution_count": 2,
   "id": "8fa124e7",
   "metadata": {},
   "outputs": [],
   "source": [
    "# Source for this cell: Lab 2\n",
    "\n",
    "#\n",
    "# function to run a select query and return rows in a pandas dataframe\n",
    "# pandas puts all numeric values from postgres to float\n",
    "# if it will fit in an integer, change it to integer\n",
    "#\n",
    "\n",
    "def my_select_query_pandas(query, rollback_before_flag, rollback_after_flag):\n",
    "    \"function to run a select query and return rows in a pandas dataframe\"\n",
    "    \n",
    "    if rollback_before_flag:\n",
    "        connection.rollback()\n",
    "    \n",
    "    df = pd.read_sql_query(query, connection)\n",
    "    \n",
    "    if rollback_after_flag:\n",
    "        connection.rollback()\n",
    "    \n",
    "    # fix the float columns that really should be integers\n",
    "    \n",
    "    for column in df:\n",
    "    \n",
    "        if df[column].dtype == \"float64\":\n",
    "\n",
    "            fraction_flag = False\n",
    "\n",
    "            for value in df[column].values:\n",
    "                \n",
    "                if not np.isnan(value):\n",
    "                    if value - math.floor(value) != 0:\n",
    "                        fraction_flag = True\n",
    "\n",
    "            if not fraction_flag:\n",
    "                df[column] = df[column].astype('Int64')\n",
    "    \n",
    "    return(df)\n",
    "\n",
    "# Connect to Postgres database\n",
    "connection = psycopg2.connect(\n",
    "    user = \"postgres\",\n",
    "    password = \"ucb\",\n",
    "    host = \"postgres\",\n",
    "    port = \"5432\",\n",
    "    database = \"postgres\"\n",
    ")\n",
    "\n",
    "# Create a cursor for the connection\n",
    "cursor = connection.cursor()"
   ]
  },
  {
   "cell_type": "markdown",
   "id": "6ce7b174",
   "metadata": {},
   "source": [
    "## The executives want you to come up with a high level design of a model, in the form of written criteria, to determine who the best customers are. \n",
    "\n",
    "## You do NOT have to code the model. \n",
    "\n",
    "## You do NOT have to give an actual list of best customers. \n",
    "\n",
    "## Create an executive summary explaining your model. You must support your summary with data, in the form of output of queries, data visualization, etc. There is a 1 query minimum."
   ]
  },
  {
   "cell_type": "markdown",
   "id": "9545d477",
   "metadata": {},
   "source": [
    "## Aggregate the customer sales data"
   ]
  },
  {
   "cell_type": "markdown",
   "id": "52c450e2",
   "metadata": {},
   "source": [
    "* lifetime = number of days between a customer's first and last sale dates\n",
    "* Recency = the interval between the last sale and today (we'll use last day of 2020)\n",
    "* Frequency = the number of sales over a customer's lifetime\n",
    "* Monetary Value = the total revenue for a customer over his/her/their lifetime"
   ]
  },
  {
   "cell_type": "code",
   "execution_count": 3,
   "id": "07d88216",
   "metadata": {},
   "outputs": [
    {
     "data": {
      "text/html": [
       "<div>\n",
       "<style scoped>\n",
       "    .dataframe tbody tr th:only-of-type {\n",
       "        vertical-align: middle;\n",
       "    }\n",
       "\n",
       "    .dataframe tbody tr th {\n",
       "        vertical-align: top;\n",
       "    }\n",
       "\n",
       "    .dataframe thead th {\n",
       "        text-align: right;\n",
       "    }\n",
       "</style>\n",
       "<table border=\"1\" class=\"dataframe\">\n",
       "  <thead>\n",
       "    <tr style=\"text-align: right;\">\n",
       "      <th></th>\n",
       "      <th>customer_id</th>\n",
       "      <th>first_sale_date</th>\n",
       "      <th>last_sale_date</th>\n",
       "      <th>lifetime</th>\n",
       "      <th>recency</th>\n",
       "      <th>frequency</th>\n",
       "      <th>monetary_value</th>\n",
       "    </tr>\n",
       "  </thead>\n",
       "  <tbody>\n",
       "    <tr>\n",
       "      <th>0</th>\n",
       "      <td>1</td>\n",
       "      <td>2020-01-02</td>\n",
       "      <td>2020-12-30</td>\n",
       "      <td>363</td>\n",
       "      <td>1</td>\n",
       "      <td>71</td>\n",
       "      <td>5004</td>\n",
       "    </tr>\n",
       "    <tr>\n",
       "      <th>1</th>\n",
       "      <td>2</td>\n",
       "      <td>2020-01-01</td>\n",
       "      <td>2020-12-27</td>\n",
       "      <td>361</td>\n",
       "      <td>4</td>\n",
       "      <td>66</td>\n",
       "      <td>4308</td>\n",
       "    </tr>\n",
       "    <tr>\n",
       "      <th>2</th>\n",
       "      <td>3</td>\n",
       "      <td>2020-01-02</td>\n",
       "      <td>2020-12-26</td>\n",
       "      <td>359</td>\n",
       "      <td>5</td>\n",
       "      <td>76</td>\n",
       "      <td>3996</td>\n",
       "    </tr>\n",
       "    <tr>\n",
       "      <th>3</th>\n",
       "      <td>4</td>\n",
       "      <td>2020-01-16</td>\n",
       "      <td>2020-12-31</td>\n",
       "      <td>350</td>\n",
       "      <td>0</td>\n",
       "      <td>58</td>\n",
       "      <td>3456</td>\n",
       "    </tr>\n",
       "    <tr>\n",
       "      <th>4</th>\n",
       "      <td>5</td>\n",
       "      <td>2020-01-12</td>\n",
       "      <td>2020-12-24</td>\n",
       "      <td>347</td>\n",
       "      <td>7</td>\n",
       "      <td>19</td>\n",
       "      <td>1404</td>\n",
       "    </tr>\n",
       "    <tr>\n",
       "      <th>...</th>\n",
       "      <td>...</td>\n",
       "      <td>...</td>\n",
       "      <td>...</td>\n",
       "      <td>...</td>\n",
       "      <td>...</td>\n",
       "      <td>...</td>\n",
       "      <td>...</td>\n",
       "    </tr>\n",
       "    <tr>\n",
       "      <th>31042</th>\n",
       "      <td>31078</td>\n",
       "      <td>2020-01-06</td>\n",
       "      <td>2020-12-30</td>\n",
       "      <td>359</td>\n",
       "      <td>1</td>\n",
       "      <td>50</td>\n",
       "      <td>3420</td>\n",
       "    </tr>\n",
       "    <tr>\n",
       "      <th>31043</th>\n",
       "      <td>31079</td>\n",
       "      <td>2020-01-11</td>\n",
       "      <td>2020-12-06</td>\n",
       "      <td>330</td>\n",
       "      <td>25</td>\n",
       "      <td>45</td>\n",
       "      <td>3228</td>\n",
       "    </tr>\n",
       "    <tr>\n",
       "      <th>31044</th>\n",
       "      <td>31080</td>\n",
       "      <td>2020-01-04</td>\n",
       "      <td>2020-12-07</td>\n",
       "      <td>338</td>\n",
       "      <td>24</td>\n",
       "      <td>44</td>\n",
       "      <td>2808</td>\n",
       "    </tr>\n",
       "    <tr>\n",
       "      <th>31045</th>\n",
       "      <td>31081</td>\n",
       "      <td>2020-01-30</td>\n",
       "      <td>2020-12-29</td>\n",
       "      <td>334</td>\n",
       "      <td>2</td>\n",
       "      <td>45</td>\n",
       "      <td>3300</td>\n",
       "    </tr>\n",
       "    <tr>\n",
       "      <th>31046</th>\n",
       "      <td>31082</td>\n",
       "      <td>2020-01-06</td>\n",
       "      <td>2020-11-28</td>\n",
       "      <td>327</td>\n",
       "      <td>33</td>\n",
       "      <td>45</td>\n",
       "      <td>3744</td>\n",
       "    </tr>\n",
       "  </tbody>\n",
       "</table>\n",
       "<p>31047 rows × 7 columns</p>\n",
       "</div>"
      ],
      "text/plain": [
       "       customer_id first_sale_date last_sale_date  lifetime  recency  \\\n",
       "0                1      2020-01-02     2020-12-30       363        1   \n",
       "1                2      2020-01-01     2020-12-27       361        4   \n",
       "2                3      2020-01-02     2020-12-26       359        5   \n",
       "3                4      2020-01-16     2020-12-31       350        0   \n",
       "4                5      2020-01-12     2020-12-24       347        7   \n",
       "...            ...             ...            ...       ...      ...   \n",
       "31042        31078      2020-01-06     2020-12-30       359        1   \n",
       "31043        31079      2020-01-11     2020-12-06       330       25   \n",
       "31044        31080      2020-01-04     2020-12-07       338       24   \n",
       "31045        31081      2020-01-30     2020-12-29       334        2   \n",
       "31046        31082      2020-01-06     2020-11-28       327       33   \n",
       "\n",
       "       frequency  monetary_value  \n",
       "0             71            5004  \n",
       "1             66            4308  \n",
       "2             76            3996  \n",
       "3             58            3456  \n",
       "4             19            1404  \n",
       "...          ...             ...  \n",
       "31042         50            3420  \n",
       "31043         45            3228  \n",
       "31044         44            2808  \n",
       "31045         45            3300  \n",
       "31046         45            3744  \n",
       "\n",
       "[31047 rows x 7 columns]"
      ]
     },
     "execution_count": 3,
     "metadata": {},
     "output_type": "execute_result"
    }
   ],
   "source": [
    "# rollback_before_flag = True\n",
    "# rollback_after_flag = True\n",
    "\n",
    "# query = \"\"\"\n",
    "\n",
    "# select customer_id,\n",
    "#         min(sale_date) as first_sale_date,\n",
    "#         max(sale_date) as last_sale_date,\n",
    "#         max(sale_date) - min(sale_date) as lifetime,\n",
    "#         '2020-12-31' - max(sale_date) as recency,\n",
    "#         count(distinct(store_id, sale_id)) as frequency,\n",
    "#         sum(total_amount) as monetary_value\n",
    "# from sales\n",
    "# group by customer_id\n",
    "# order by customer_id\n",
    "\n",
    "# \"\"\"\n",
    "\n",
    "\n",
    "# aggregated_customer_df = my_select_query_pandas(query, rollback_before_flag, rollback_after_flag)\n",
    "# aggregated_customer_df"
   ]
  },
  {
   "cell_type": "markdown",
   "id": "f1f31daa",
   "metadata": {},
   "source": [
    "## Reduce bias of customer lifetime by converting raw metric values to values relative to lifetime (i.e. normalizing R, F, M values)"
   ]
  },
  {
   "cell_type": "markdown",
   "id": "aaf5b1a7",
   "metadata": {},
   "source": [
    "Customers with short lifetimes are not necessarily worse customers. If someone has a longer customer lifetime, we might overvalue customers with longer lifetimes. We want to avoid bias of customer lifetime."
   ]
  },
  {
   "cell_type": "code",
   "execution_count": 15,
   "id": "68cd8ee3",
   "metadata": {},
   "outputs": [],
   "source": [
    "# def plot_rfm():\n",
    "#     agg_customer_data = aggregated_customer_df.copy()\n",
    "#     agg_customer_data['RelativeRecency'] = agg_customer_data['recency']/agg_customer_data['lifetime']\n",
    "#     agg_customer_data['RelativeFrequency'] = agg_customer_data['frequency']/agg_customer_data['lifetime']\n",
    "#     agg_customer_data['RelativeMonetary'] = agg_customer_data['monetary_value']/agg_customer_data['lifetime']\n",
    "\n",
    "#     # Plot RFM distributions\n",
    "#     sns.displot(agg_customer_data['RelativeRecency'], binwidth = 0.01, kde=True, height=4, aspect=2)\n",
    "#     plt.axvline(x=agg_customer_data.RelativeRecency.quantile(0.7), label='70th percentile', color='r', linestyle='--')\n",
    "#     plt.title('Figure 1a: Distribution of Relative Recency')\n",
    "#     plt.xlabel('Relative Recency')\n",
    "#     plt.legend()\n",
    "\n",
    "#     sns.displot(agg_customer_data['RelativeFrequency'], binwidth = 0.007, kde=True, height=4, aspect=2)\n",
    "#     plt.axvline(x=agg_customer_data.RelativeFrequency.quantile(0.7), label='70th percentile', color='r', linestyle='--')\n",
    "#     plt.title('Figure 1b: Distribution of Relative Frequency')\n",
    "#     plt.xlabel('Relative Frequency')\n",
    "#     plt.legend()\n",
    "\n",
    "#     sns.displot(agg_customer_data['RelativeMonetary'].astype(float), kde=True, height=4, aspect=2)\n",
    "#     plt.axvline(x=agg_customer_data.RelativeMonetary.quantile(0.7), label='70th percentile', color='r', linestyle='--')\n",
    "#     plt.title('Figure 1c: Distribution of Relative Monetary Value')\n",
    "#     plt.xlabel('Relative Monetary Value')\n",
    "#     plt.legend()\n",
    "\n",
    "#     plt.show"
   ]
  },
  {
   "cell_type": "code",
   "execution_count": 16,
   "id": "f83e116e",
   "metadata": {},
   "outputs": [
    {
     "data": {
      "image/png": "[encoded data removed]",
      "text/plain": [
       "<Figure size 576x288 with 1 Axes>"
      ]
     },
     "metadata": {
      "needs_background": "light"
     },
     "output_type": "display_data"
    },
    {
     "data": {
      "image/png": "[encoded data removed]",
      "text/plain": [
       "<Figure size 576x288 with 1 Axes>"
      ]
     },
     "metadata": {
      "needs_background": "light"
     },
     "output_type": "display_data"
    },
    {
     "data": {
      "image/png": "[encoded data removed]",
      "text/plain": [
       "<Figure size 576x288 with 1 Axes>"
      ]
     },
     "metadata": {
      "needs_background": "light"
     },
     "output_type": "display_data"
    }
   ],
   "source": [
    "# plot_rfm()"
   ]
  },
  {
   "cell_type": "code",
   "execution_count": 20,
   "id": "376cb2eb",
   "metadata": {},
   "outputs": [],
   "source": [
    "# def segment_pie_chart():\n",
    "#     # define rfm threshold values for high, med, and low\n",
    "#     r_limit = agg_customer_data.RelativeRecency.quantile(0.7)\n",
    "#     f_limit = agg_customer_data.RelativeFrequency.quantile(0.7)\n",
    "#     m_limit = agg_customer_data.RelativeMonetary.quantile(0.7)\n",
    "\n",
    "#     # define conditions for segmenting customers\n",
    "#     high_condition = (agg_customer_data['RelativeRecency'] <= r_limit) & (agg_customer_data['RelativeFrequency'] >= f_limit) & (agg_customer_data['RelativeMonetary'] >= m_limit)\n",
    "#     low_condition = (agg_customer_data['RelativeRecency'] > r_limit) & (agg_customer_data['RelativeFrequency'] < f_limit) & (agg_customer_data['RelativeMonetary'] < m_limit)\n",
    "\n",
    "#     # segment customers into rfm categories: low value, medium value, high value, and top value\n",
    "#     agg_customer_data_labelled = agg_customer_data.copy()\n",
    "#     agg_customer_data_labelled['customer_segment'] = np.where(high_condition, 'High Value Customers',\n",
    "#                     np.where(low_condition,'Medium Value Customers', 'Low Value Customers'))\n",
    "\n",
    "#     # plot customer segments\n",
    "#     plt.figure(figsize=(6.5,6.5))\n",
    "#     plt.rcParams['font.size'] = 14\n",
    "#     plt.title('RFM Customer Segments')\n",
    "#     plt.pie(agg_customer_data_labelled.customer_segment.value_counts(),\n",
    "#             labels=agg_customer_data_labelled.customer_segment.value_counts().index,\n",
    "#             autopct='%.0f%%')\n",
    "#     plt.show()"
   ]
  },
  {
   "cell_type": "code",
   "execution_count": 21,
   "id": "8cd65091",
   "metadata": {},
   "outputs": [
    {
     "data": {
      "image/png": "[encoded data removed]",
      "text/plain": [
       "<Figure size 468x468 with 1 Axes>"
      ]
     },
     "metadata": {},
     "output_type": "display_data"
    }
   ],
   "source": [
    "# segment_pie_chart()"
   ]
  },
  {
   "cell_type": "markdown",
   "id": "338d2ff1",
   "metadata": {},
   "source": [
    "## Executive Summary: Best Customer Model for AGM\n",
    "My best customer model for AGM is a variation of the RFM model. The RFM model analyzes customer value by looking at three dimensions:\n",
    "* **R**ecency: How recently did the customer buy?\n",
    "* **F**requence: How often does the customer buy?\n",
    "* **M**onetary Value: How much does the customer spend?\n",
    "\n",
    "### Aggregating the Customer Sales Data\n",
    "I aggregated the customer sales data into a single table and calculated the recency, frequency, and monetary values as follows:\n",
    "* lifetime = number of days between a customer's first and last sale dates\n",
    "* Recency = the interval between the last sale and today (we'll use last day of 2020)\n",
    "* Frequency = the number of sales over a customer's lifetime\n",
    "* Monetary Value = the total revenue for a customer over his/her/their lifetime\n",
    "I also added a lifetime column, which captures the number of days between a customer’s first sale date and last sale date. See the aggregated customer data table below:"
   ]
  },
  {
   "cell_type": "code",
   "execution_count": null,
   "id": "f563ebb0",
   "metadata": {},
   "outputs": [],
   "source": [
    "rollback_before_flag = True\n",
    "rollback_after_flag = True\n",
    "\n",
    "query = \"\"\"\n",
    "\n",
    "select customer_id,\n",
    "        min(sale_date) as first_sale_date,\n",
    "        max(sale_date) as last_sale_date,\n",
    "        max(sale_date) - min(sale_date) as lifetime,\n",
    "        '2020-12-31' - max(sale_date) as recency,\n",
    "        count(distinct(store_id, sale_id)) as frequency,\n",
    "        sum(total_amount) as monetary_value\n",
    "from sales\n",
    "group by customer_id\n",
    "order by customer_id\n",
    "\n",
    "\"\"\"\n",
    "\n",
    "\n",
    "aggregated_customer_df = my_select_query_pandas(query, rollback_before_flag, rollback_after_flag)\n",
    "aggregated_customer_df"
   ]
  },
  {
   "cell_type": "markdown",
   "id": "2a845a09",
   "metadata": {},
   "source": [
    "### Normalizing RFM Values to accounting for possible lifetime bias\n",
    "It is important to note that customer lifetimes can introduce bias into our model. For example, customers with short lifetimes are not necessarily bad customers because they may be more recent. In this way, we want to avoid “penalizing” recent customers with shorter lifetimes, and we also want to avoid overvaluing customers with longer lifetimes. To account for any customer lifetime bias, I normalized the RFM values by dividing each dimension by the lifetime of the respective customers. I will refer to these normalized values as relative RFM values.\n",
    "\n",
    "### Distribution of Relative RFM Values\n",
    "Figures 1a-1c show the distributions of each relative RFM value. The red line shows the 70th percentile of each distribution. In Figures 1b and 1c, the 70th percentile line shows a natural separation between the two peaks occurring in each plot."
   ]
  },
  {
   "cell_type": "code",
   "execution_count": null,
   "id": "74f5b3a4",
   "metadata": {},
   "outputs": [],
   "source": [
    "agg_customer_data = aggregated_customer_df.copy()\n",
    "agg_customer_data['RelativeRecency'] = agg_customer_data['recency']/agg_customer_data['lifetime']\n",
    "agg_customer_data['RelativeFrequency'] = agg_customer_data['frequency']/agg_customer_data['lifetime']\n",
    "agg_customer_data['RelativeMonetary'] = agg_customer_data['monetary_value']/agg_customer_data['lifetime']\n",
    "\n",
    "# Plot RFM distributions\n",
    "sns.displot(agg_customer_data['RelativeRecency'], binwidth = 0.01, kde=True, height=4, aspect=2)\n",
    "plt.axvline(x=agg_customer_data.RelativeRecency.quantile(0.7), label='70th percentile', color='r', linestyle='--')\n",
    "plt.title('Figure 1a: Distribution of Relative Recency')\n",
    "plt.xlabel('Relative Recency')\n",
    "plt.legend()\n",
    "\n",
    "sns.displot(agg_customer_data['RelativeFrequency'], binwidth = 0.007, kde=True, height=4, aspect=2)\n",
    "plt.axvline(x=agg_customer_data.RelativeFrequency.quantile(0.7), label='70th percentile', color='r', linestyle='--')\n",
    "plt.title('Figure 1b: Distribution of Relative Frequency')\n",
    "plt.xlabel('Relative Frequency')\n",
    "plt.legend()\n",
    "\n",
    "sns.displot(agg_customer_data['RelativeMonetary'].astype(float), kde=True, height=4, aspect=2)\n",
    "plt.axvline(x=agg_customer_data.RelativeMonetary.quantile(0.7), label='70th percentile', color='r', linestyle='--')\n",
    "plt.title('Figure 1c: Distribution of Relative Monetary Value')\n",
    "plt.xlabel('Relative Monetary Value')\n",
    "plt.legend()\n",
    "\n",
    "plt.show"
   ]
  },
  {
   "cell_type": "markdown",
   "id": "1b25f88d",
   "metadata": {},
   "source": [
    "### Divide Customers into Customer Segments\n",
    "I divided customers into customer segments by assigning the following classifications:\n",
    "* High value customers - customers with:\n",
    "    * relative recency <= 70th percentile value of relative recency distribution (note that lower recency value means more recent)\n",
    "    * relative frequency > 70th percentile value of relative frequency distribution\n",
    "    * relative monetary value > 70th percentile value of relative monetary value distribution\n",
    "* Medium value customers - customers with:\n",
    "    * relative recency > 70th percentile value of relative recency distribution\n",
    "    * relative frequency <= 70th percentile value of relative frequency distribution\n",
    "    * relative monetary value <= 70th percentile value of relative monetary value distribution\n",
    "* Low value customers - customers with relative RFM values that don’t meet the threshold for high and medium value customers\n",
    "\n",
    "Figure 2 shows the division of all customers who purchased into customer segments based on the relative RFM model.\n"
   ]
  },
  {
   "cell_type": "code",
   "execution_count": null,
   "id": "877ca397",
   "metadata": {},
   "outputs": [],
   "source": [
    "# define rfm threshold values for high, med, and low\n",
    "r_limit = agg_customer_data.RelativeRecency.quantile(0.7)\n",
    "f_limit = agg_customer_data.RelativeFrequency.quantile(0.7)\n",
    "m_limit = agg_customer_data.RelativeMonetary.quantile(0.7)\n",
    "\n",
    "# define conditions for segmenting customers\n",
    "high_condition = (agg_customer_data['RelativeRecency'] <= r_limit) & (agg_customer_data['RelativeFrequency'] >= f_limit) & (agg_customer_data['RelativeMonetary'] >= m_limit)\n",
    "low_condition = (agg_customer_data['RelativeRecency'] > r_limit) & (agg_customer_data['RelativeFrequency'] < f_limit) & (agg_customer_data['RelativeMonetary'] < m_limit)\n",
    "\n",
    "# segment customers into rfm categories: low value, medium value, high value, and top value\n",
    "agg_customer_data_labelled = agg_customer_data.copy()\n",
    "agg_customer_data_labelled['customer_segment'] = np.where(high_condition, 'High Value Customers',\n",
    "                np.where(low_condition,'Medium Value Customers', 'Low Value Customers'))\n",
    "\n",
    "# plot customer segments\n",
    "plt.figure(figsize=(6.5,6.5))\n",
    "plt.rcParams['font.size'] = 14\n",
    "plt.title('Figure 2: RFM Customer Segments')\n",
    "plt.pie(agg_customer_data_labelled.customer_segment.value_counts(),\n",
    "        labels=agg_customer_data_labelled.customer_segment.value_counts().index,\n",
    "        autopct='%.0f%%')\n",
    "plt.show()"
   ]
  },
  {
   "cell_type": "markdown",
   "id": "e50a9e14",
   "metadata": {},
   "source": [
    "### Conclusion\n",
    "The RFM model that adjusts for customer lifetime bias is an appropriate model for determining what a best customer is by AGM standards. It segments our customers into reasonable proportions. As described above, the model reflects the recency, frequency, and monetary patterns for a majority of our customers."
   ]
  },
  {
   "cell_type": "code",
   "execution_count": null,
   "id": "55ee368e",
   "metadata": {},
   "outputs": [],
   "source": []
  }
 ],
 "metadata": {
  "kernelspec": {
   "display_name": "Python 3",
   "language": "python",
   "name": "python3"
  },
  "language_info": {
   "codemirror_mode": {
    "name": "ipython",
    "version": 3
   },
   "file_extension": ".py",
   "mimetype": "text/x-python",
   "name": "python",
   "nbconvert_exporter": "python",
   "pygments_lexer": "ipython3",
   "version": "3.8.8"
  }
 },
 "nbformat": 4,
 "nbformat_minor": 5
}
