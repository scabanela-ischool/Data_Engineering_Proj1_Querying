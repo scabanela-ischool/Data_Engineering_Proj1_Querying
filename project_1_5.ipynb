{
 "cells": [
  {
   "cell_type": "markdown",
   "id": "cd11da2a",
   "metadata": {},
   "source": [
    "# Project 1, Part 5, Best Customer Analytics\n",
    "\n",
    "University of California, Berkeley\n",
    "Master of Information and Data Science (MIDS) program\n",
    "w205 - Fundamentals of Data Engineering\n",
    "\n",
    "Student: Stephanie Cabanela\n",
    "\n",
    "Year: 2022\n",
    "\n",
    "Semester: Spring\n",
    "\n",
    "Section: 7\n"
   ]
  },
  {
   "cell_type": "markdown",
   "id": "b052db7c",
   "metadata": {},
   "source": [
    "# Included Modules and Packages\n",
    "\n",
    "Code cell containing your includes for modules and packages"
   ]
  },
  {
   "cell_type": "code",
   "execution_count": 66,
   "id": "a400eec0",
   "metadata": {},
   "outputs": [],
   "source": [
    "import math\n",
    "import numpy as np\n",
    "import pandas as pd\n",
    "import psycopg2\n",
    "import matplotlib.pyplot as plt\n",
    "import matplotlib.colors as mcolors\n",
    "import seaborn as sns"
   ]
  },
  {
   "cell_type": "markdown",
   "id": "d954ac75",
   "metadata": {},
   "source": [
    "# Supporting code\n",
    "\n",
    "Code cells containing any supporting code, such as connecting to the database, any functions, etc.  Remember you can use any code from the labs."
   ]
  },
  {
   "cell_type": "code",
   "execution_count": 2,
   "id": "8fa124e7",
   "metadata": {},
   "outputs": [],
   "source": [
    "# Source for this cell: Lab 2\n",
    "\n",
    "#\n",
    "# function to run a select query and return rows in a pandas dataframe\n",
    "# pandas puts all numeric values from postgres to float\n",
    "# if it will fit in an integer, change it to integer\n",
    "#\n",
    "\n",
    "def my_select_query_pandas(query, rollback_before_flag, rollback_after_flag):\n",
    "    \"function to run a select query and return rows in a pandas dataframe\"\n",
    "    \n",
    "    if rollback_before_flag:\n",
    "        connection.rollback()\n",
    "    \n",
    "    df = pd.read_sql_query(query, connection)\n",
    "    \n",
    "    if rollback_after_flag:\n",
    "        connection.rollback()\n",
    "    \n",
    "    # fix the float columns that really should be integers\n",
    "    \n",
    "    for column in df:\n",
    "    \n",
    "        if df[column].dtype == \"float64\":\n",
    "\n",
    "            fraction_flag = False\n",
    "\n",
    "            for value in df[column].values:\n",
    "                \n",
    "                if not np.isnan(value):\n",
    "                    if value - math.floor(value) != 0:\n",
    "                        fraction_flag = True\n",
    "\n",
    "            if not fraction_flag:\n",
    "                df[column] = df[column].astype('Int64')\n",
    "    \n",
    "    return(df)\n",
    "\n",
    "# Connect to Postgres database\n",
    "connection = psycopg2.connect(\n",
    "    user = \"postgres\",\n",
    "    password = \"ucb\",\n",
    "    host = \"postgres\",\n",
    "    port = \"5432\",\n",
    "    database = \"postgres\"\n",
    ")\n",
    "\n",
    "# Create a cursor for the connection\n",
    "cursor = connection.cursor()"
   ]
  },
  {
   "cell_type": "markdown",
   "id": "6ce7b174",
   "metadata": {},
   "source": [
    "## The executives want you to come up with a high level design of a model, in the form of written criteria, to determine who the best customers are. \n",
    "\n",
    "## You do NOT have to code the model. \n",
    "\n",
    "## You do NOT have to give an actual list of best customers. \n",
    "\n",
    "## Create an executive summary explaining your model. You must support your summary with data, in the form of output of queries, data visualization, etc. There is a 1 query minimum."
   ]
  },
  {
   "cell_type": "markdown",
   "id": "00d16a31",
   "metadata": {},
   "source": [
    "## Aggregate the customer sales data"
   ]
  },
  {
   "cell_type": "markdown",
   "id": "f7fe67f4",
   "metadata": {},
   "source": [
    "* lifetime = number of days between a customer's first and last sale dates\n",
    "* Recency = the interval between the last sale and today (we'll use last day of 2020)\n",
    "* Frequency = the number of sales over a customer's lifetime\n",
    "* Monetary Value = the total revenue for a customer over his/her/their lifetime"
   ]
  },
  {
   "cell_type": "code",
   "execution_count": 20,
   "id": "07d88216",
   "metadata": {},
   "outputs": [
    {
     "data": {
      "text/html": [
       "<div>\n",
       "<style scoped>\n",
       "    .dataframe tbody tr th:only-of-type {\n",
       "        vertical-align: middle;\n",
       "    }\n",
       "\n",
       "    .dataframe tbody tr th {\n",
       "        vertical-align: top;\n",
       "    }\n",
       "\n",
       "    .dataframe thead th {\n",
       "        text-align: right;\n",
       "    }\n",
       "</style>\n",
       "<table border=\"1\" class=\"dataframe\">\n",
       "  <thead>\n",
       "    <tr style=\"text-align: right;\">\n",
       "      <th></th>\n",
       "      <th>customer_id</th>\n",
       "      <th>first_sale_date</th>\n",
       "      <th>last_sale_date</th>\n",
       "      <th>lifetime</th>\n",
       "      <th>recency</th>\n",
       "      <th>frequency</th>\n",
       "      <th>monetary_value</th>\n",
       "    </tr>\n",
       "  </thead>\n",
       "  <tbody>\n",
       "    <tr>\n",
       "      <th>0</th>\n",
       "      <td>1</td>\n",
       "      <td>2020-01-02</td>\n",
       "      <td>2020-12-30</td>\n",
       "      <td>363</td>\n",
       "      <td>1</td>\n",
       "      <td>71</td>\n",
       "      <td>5004</td>\n",
       "    </tr>\n",
       "    <tr>\n",
       "      <th>1</th>\n",
       "      <td>2</td>\n",
       "      <td>2020-01-01</td>\n",
       "      <td>2020-12-27</td>\n",
       "      <td>361</td>\n",
       "      <td>4</td>\n",
       "      <td>66</td>\n",
       "      <td>4308</td>\n",
       "    </tr>\n",
       "    <tr>\n",
       "      <th>2</th>\n",
       "      <td>3</td>\n",
       "      <td>2020-01-02</td>\n",
       "      <td>2020-12-26</td>\n",
       "      <td>359</td>\n",
       "      <td>5</td>\n",
       "      <td>76</td>\n",
       "      <td>3996</td>\n",
       "    </tr>\n",
       "    <tr>\n",
       "      <th>3</th>\n",
       "      <td>4</td>\n",
       "      <td>2020-01-16</td>\n",
       "      <td>2020-12-31</td>\n",
       "      <td>350</td>\n",
       "      <td>0</td>\n",
       "      <td>58</td>\n",
       "      <td>3456</td>\n",
       "    </tr>\n",
       "    <tr>\n",
       "      <th>4</th>\n",
       "      <td>5</td>\n",
       "      <td>2020-01-12</td>\n",
       "      <td>2020-12-24</td>\n",
       "      <td>347</td>\n",
       "      <td>7</td>\n",
       "      <td>19</td>\n",
       "      <td>1404</td>\n",
       "    </tr>\n",
       "    <tr>\n",
       "      <th>...</th>\n",
       "      <td>...</td>\n",
       "      <td>...</td>\n",
       "      <td>...</td>\n",
       "      <td>...</td>\n",
       "      <td>...</td>\n",
       "      <td>...</td>\n",
       "      <td>...</td>\n",
       "    </tr>\n",
       "    <tr>\n",
       "      <th>31042</th>\n",
       "      <td>31078</td>\n",
       "      <td>2020-01-06</td>\n",
       "      <td>2020-12-30</td>\n",
       "      <td>359</td>\n",
       "      <td>1</td>\n",
       "      <td>50</td>\n",
       "      <td>3420</td>\n",
       "    </tr>\n",
       "    <tr>\n",
       "      <th>31043</th>\n",
       "      <td>31079</td>\n",
       "      <td>2020-01-11</td>\n",
       "      <td>2020-12-06</td>\n",
       "      <td>330</td>\n",
       "      <td>25</td>\n",
       "      <td>45</td>\n",
       "      <td>3228</td>\n",
       "    </tr>\n",
       "    <tr>\n",
       "      <th>31044</th>\n",
       "      <td>31080</td>\n",
       "      <td>2020-01-04</td>\n",
       "      <td>2020-12-07</td>\n",
       "      <td>338</td>\n",
       "      <td>24</td>\n",
       "      <td>44</td>\n",
       "      <td>2808</td>\n",
       "    </tr>\n",
       "    <tr>\n",
       "      <th>31045</th>\n",
       "      <td>31081</td>\n",
       "      <td>2020-01-30</td>\n",
       "      <td>2020-12-29</td>\n",
       "      <td>334</td>\n",
       "      <td>2</td>\n",
       "      <td>45</td>\n",
       "      <td>3300</td>\n",
       "    </tr>\n",
       "    <tr>\n",
       "      <th>31046</th>\n",
       "      <td>31082</td>\n",
       "      <td>2020-01-06</td>\n",
       "      <td>2020-11-28</td>\n",
       "      <td>327</td>\n",
       "      <td>33</td>\n",
       "      <td>45</td>\n",
       "      <td>3744</td>\n",
       "    </tr>\n",
       "  </tbody>\n",
       "</table>\n",
       "<p>31047 rows × 7 columns</p>\n",
       "</div>"
      ],
      "text/plain": [
       "       customer_id first_sale_date last_sale_date  lifetime  recency  \\\n",
       "0                1      2020-01-02     2020-12-30       363        1   \n",
       "1                2      2020-01-01     2020-12-27       361        4   \n",
       "2                3      2020-01-02     2020-12-26       359        5   \n",
       "3                4      2020-01-16     2020-12-31       350        0   \n",
       "4                5      2020-01-12     2020-12-24       347        7   \n",
       "...            ...             ...            ...       ...      ...   \n",
       "31042        31078      2020-01-06     2020-12-30       359        1   \n",
       "31043        31079      2020-01-11     2020-12-06       330       25   \n",
       "31044        31080      2020-01-04     2020-12-07       338       24   \n",
       "31045        31081      2020-01-30     2020-12-29       334        2   \n",
       "31046        31082      2020-01-06     2020-11-28       327       33   \n",
       "\n",
       "       frequency  monetary_value  \n",
       "0             71            5004  \n",
       "1             66            4308  \n",
       "2             76            3996  \n",
       "3             58            3456  \n",
       "4             19            1404  \n",
       "...          ...             ...  \n",
       "31042         50            3420  \n",
       "31043         45            3228  \n",
       "31044         44            2808  \n",
       "31045         45            3300  \n",
       "31046         45            3744  \n",
       "\n",
       "[31047 rows x 7 columns]"
      ]
     },
     "execution_count": 20,
     "metadata": {},
     "output_type": "execute_result"
    }
   ],
   "source": [
    "rollback_before_flag = True\n",
    "rollback_after_flag = True\n",
    "\n",
    "query = \"\"\"\n",
    "\n",
    "select customer_id,\n",
    "        min(sale_date) as first_sale_date,\n",
    "        max(sale_date) as last_sale_date,\n",
    "        max(sale_date) - min(sale_date) as lifetime,\n",
    "        '2020-12-31' - max(sale_date) as recency,\n",
    "        count(distinct(store_id, sale_id)) as frequency,\n",
    "        sum(total_amount) as monetary_value\n",
    "from sales\n",
    "group by customer_id\n",
    "order by customer_id\n",
    "\n",
    "\"\"\"\n",
    "\n",
    "\n",
    "aggregated_customer_df = my_select_query_pandas(query, rollback_before_flag, rollback_after_flag)\n",
    "aggregated_customer_df"
   ]
  },
  {
   "cell_type": "markdown",
   "id": "71998a3c",
   "metadata": {},
   "source": [
    "## Reduce bias of customer lifetime by converting raw metric values to values relative to lifetime (i.e. normalizing R, F, M values)"
   ]
  },
  {
   "cell_type": "markdown",
   "id": "5eca3d9a",
   "metadata": {},
   "source": [
    "Customers with short lifetimes are not necessarily worse customers. If someone has a longer customer lifetime, we might overvalue customers with longer lifetimes. We want to avoid bias of customer lifetime."
   ]
  },
  {
   "cell_type": "code",
   "execution_count": 123,
   "id": "3eceb398",
   "metadata": {
    "scrolled": false
   },
   "outputs": [
    {
     "data": {
      "text/plain": [
       "<function matplotlib.pyplot.show(close=None, block=None)>"
      ]
     },
     "execution_count": 123,
     "metadata": {},
     "output_type": "execute_result"
    },
    {
     "data": {
      "image/png": "[encoded data removed]",
      "text/plain": [
       "<Figure size 576x288 with 1 Axes>"
      ]
     },
     "metadata": {
      "needs_background": "light"
     },
     "output_type": "display_data"
    },
    {
     "data": {
      "image/png": "[encoded data removed]",
      "text/plain": [
       "<Figure size 576x288 with 1 Axes>"
      ]
     },
     "metadata": {
      "needs_background": "light"
     },
     "output_type": "display_data"
    },
    {
     "data": {
      "image/png": "[encoded data removed]",
      "text/plain": [
       "<Figure size 576x288 with 1 Axes>"
      ]
     },
     "metadata": {
      "needs_background": "light"
     },
     "output_type": "display_data"
    }
   ],
   "source": [
    "agg_customer_data = aggregated_customer_df.copy()\n",
    "agg_customer_data['RelativeRecency'] = agg_customer_data['recency']/agg_customer_data['lifetime']\n",
    "agg_customer_data['RelativeFrequency'] = agg_customer_data['frequency']/agg_customer_data['lifetime']\n",
    "agg_customer_data['RelativeMonetary'] = agg_customer_data['monetary_value']/agg_customer_data['lifetime']\n",
    "\n",
    "# Plot RFM distributions\n",
    "sns.displot(agg_customer_data['RelativeRecency'], binwidth = 0.01, kde=True, height=4, aspect=2)\n",
    "plt.axvline(x=agg_customer_data.RelativeRecency.quantile(0.15), label='Relative Recency Median', color='r', linestyle='--')\n",
    "plt.axvline(x=agg_customer_data.RelativeRecency.quantile(0.7), label='Relative Recency Median', color='y', linestyle='--')\n",
    "plt.axvline(x=agg_customer_data.RelativeRecency.quantile(0.95), label='Relative Recency Median', color='g', linestyle='--')\n",
    "plt.title('Distribution of Relative Recency')\n",
    "\n",
    "sns.displot(agg_customer_data['RelativeFrequency'], binwidth = 0.007, kde=True, height=4, aspect=2)\n",
    "plt.axvline(x=agg_customer_data.RelativeFrequency.quantile(0.15), label='Relative Frequency Median', color='r', linestyle='--')\n",
    "plt.axvline(x=agg_customer_data.RelativeFrequency.quantile(0.7), label='Relative Frequency Median', color='y', linestyle='--')\n",
    "plt.axvline(x=agg_customer_data.RelativeFrequency.quantile(0.95), label='Relative Recency Median', color='g', linestyle='--')\n",
    "plt.title('Distribution of Relative Frequency')\n",
    "\n",
    "sns.displot(agg_customer_data['RelativeMonetary'].astype(float), kde=True, height=4, aspect=2)\n",
    "plt.axvline(x=agg_customer_data.RelativeMonetary.quantile(0.15), label='Relative Frequency Median', color='r', linestyle='--')\n",
    "plt.axvline(x=agg_customer_data.RelativeMonetary.quantile(0.7), label='Relative Frequency Median', color='y', linestyle='--')\n",
    "plt.axvline(x=agg_customer_data.RelativeMonetary.quantile(0.95), label='Relative Recency Median', color='g', linestyle='--')\n",
    "plt.title('Distribution of Relative Monetary Value')\n",
    "plt.show"
   ]
  },
  {
   "cell_type": "code",
   "execution_count": 144,
   "id": "7c183ede",
   "metadata": {},
   "outputs": [
    {
     "data": {
      "image/png": "[encoded data removed]",
      "text/plain": [
       "<Figure size 432x288 with 1 Axes>"
      ]
     },
     "metadata": {},
     "output_type": "display_data"
    }
   ],
   "source": [
    "# define rfm threshold values for high, med, and low\n",
    "# high_r = agg_customer_data.RelativeRecency.quantile(0.9)\n",
    "# high_f = agg_customer_data.RelativeFrequency.quantile(0.9)\n",
    "# high_m = agg_customer_data.RelativeMonetary.quantile(0.9)\n",
    "h = 0.7\n",
    "med_r = agg_customer_data.RelativeRecency.quantile(h)\n",
    "med_f = agg_customer_data.RelativeFrequency.quantile(h)\n",
    "med_m = agg_customer_data.RelativeMonetary.quantile(h)\n",
    "l = 0.7\n",
    "low_r = agg_customer_data.RelativeRecency.quantile(l)\n",
    "low_f = agg_customer_data.RelativeFrequency.quantile(l)\n",
    "low_m = agg_customer_data.RelativeMonetary.quantile(l)\n",
    "\n",
    "# segment customers into rfm categories: low value, medium value, high value, and top value\n",
    "# top_condition = (agg_customer_data['RelativeRecency'] > high_r) & (agg_customer_data['RelativeFrequency'] > high_f) & (agg_customer_data['RelativeMonetary'] > high_m)\n",
    "high_condition = (agg_customer_data['RelativeRecency'] >= med_r) & (agg_customer_data['RelativeFrequency'] >= med_f) & (agg_customer_data['RelativeMonetary'] >= med_m) & (agg_customer_data['RelativeRecency'] <= high_r) & (agg_customer_data['RelativeFrequency'] <= high_f) & (agg_customer_data['RelativeMonetary'] <= high_m)\n",
    "# med_condition = (agg_customer_data['RelativeRecency'] >= low_r) & (agg_customer_data['RelativeFrequency'] >= low_f) & (agg_customer_data['RelativeMonetary'] >= low_m) & (agg_customer_data['RelativeRecency'] <= med_r) & (agg_customer_data['RelativeFrequency'] <= med_f) & (agg_customer_data['RelativeMonetary'] <= med_m)\n",
    "low_condition = (agg_customer_data['RelativeRecency'] < low_r) & (agg_customer_data['RelativeFrequency'] < low_f) & (agg_customer_data['RelativeMonetary'] < low_m)\n",
    "\n",
    "# create dataframes for customer segments\n",
    "agg_customer_data_labelled = agg_customer_data.copy()\n",
    "# agg_customer_data_labelled['customer_segment'] = np.where(top_condition, 'Top Customers')\n",
    "# agg_customer_data_labelled\n",
    "\n",
    "# agg_customer_data_labelled['customer_segment'] = np.where(\n",
    "# \t\t\t\t\t\t\t\t\t\thigh_condition,\n",
    "# \t\t\t\t\t\t\t\t\t\t\"High value Customer\",\n",
    "# \t\t\t\t\t\t\t\t\t\t(np.where(\n",
    "# \tmed_condition,\n",
    "# \t\t\t\t\t\t\t\"Med Value Customer\",\n",
    "# \t\t\t\t\t\t\tnp.where(low_condition,\n",
    "# \t\t\t\t\t\t\t'Low Value Customer', 'Lost Customers'))))\n",
    "# # agg_customer_data_labelled.head(20)\n",
    "\n",
    "agg_customer_data_labelled['customer_segment'] = np.where(\n",
    "\t\t\t\t\t\t\t\t\t\thigh_condition,\n",
    "\t\t\t\t\t\t\t\t\t\t\"High value Customer\",\n",
    "\t\t\t\t\t\t\t\t\t\t\n",
    "\t\t\t\t\t\t\tnp.where(low_condition,\n",
    "\t\t\t\t\t\t\t'Low Value Customer', 'Lost Customers'))\n",
    "# agg_customer_data_labelled.head(20)\n",
    "\n",
    "\n",
    "# plt.figure(figsize=(7,7))\n",
    "# plt.pie(agg_customer_data_labelled.customer_segment.value_counts(), labels=agg_customer_data_labelled['customer_segment'])\n",
    "# plt.title('RFM Customer Segments')\n",
    "# plt.show()\n",
    "\n",
    "\n",
    "plt.pie(agg_customer_data_labelled.customer_segment.value_counts(),\n",
    "        labels=agg_customer_data_labelled.customer_segment.value_counts().index,\n",
    "        autopct='%.0f%%')\n",
    "plt.show()\n",
    "\n",
    "\n",
    "# top_value_customers = agg_customer_data[top_condition]\n",
    "# high_value_customers = agg_customer_data[high_condition]\n",
    "# medium_value_customers = agg_customer_data[med_condition]\n",
    "# low_value_customers = agg_customer_data[low_condition]"
   ]
  },
  {
   "cell_type": "code",
   "execution_count": null,
   "id": "82878fd5",
   "metadata": {},
   "outputs": [],
   "source": []
  }
 ],
 "metadata": {
  "kernelspec": {
   "display_name": "Python 3",
   "language": "python",
   "name": "python3"
  },
  "language_info": {
   "codemirror_mode": {
    "name": "ipython",
    "version": 3
   },
   "file_extension": ".py",
   "mimetype": "text/x-python",
   "name": "python",
   "nbconvert_exporter": "python",
   "pygments_lexer": "ipython3",
   "version": "3.8.8"
  }
 },
 "nbformat": 4,
 "nbformat_minor": 5
}
